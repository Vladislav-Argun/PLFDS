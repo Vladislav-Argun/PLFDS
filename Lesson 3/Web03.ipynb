{
 "cells": [
  {
   "cell_type": "markdown",
   "metadata": {},
   "source": [
    "# Вебинар 3. Визуализация и анализ данных."
   ]
  },
  {
   "cell_type": "markdown",
   "metadata": {},
   "source": [
    "**План занятия**\n",
    "* [EDA](#eda)\n",
    "* [Загрузка данных](#load)\n",
    "* [Уменьшение объема памяти, который занимает датасет](#reduce)\n",
    "* [1. Распределение целевой переменной](#target)\n",
    "* [2. Анализ признаков](#features)\n",
    "    * [2.1 Количественные признаки](#num_features)\n",
    "    * [2.2 Категориальные признаки](#cat_features)\n",
    "    * [2.3 Бинарные признаки](#binary_features)\n",
    "    * [2.4 Матрица корреляций](#corr)\n",
    "* [3. Анализ зависимости таргета от фичей](#target_features)\n",
    "    * [3.1 Количественные признаки](#num_features_target)\n",
    "    * [3.2 Категориальные / бинарные признаки](#cat_bin_features)\n",
    "    * [3.3 Гео данные](#geo)"
   ]
  },
  {
   "cell_type": "markdown",
   "metadata": {},
   "source": [
    "**EDA** - Exploratory Data Analysis<a class='anchor' id='eda'>"
   ]
  },
  {
   "cell_type": "markdown",
   "metadata": {},
   "source": [
    "_Kaggle House Prices: Advanced Regression Techniques competition:_\n",
    "\n",
    "- Short EDA [beginner's tutorial](https://www.kaggle.com/pmarcelino/comprehensive-data-exploration-with-python)\n",
    "- Extended EDA [master's tutorial](https://www.kaggle.com/caicell/fun-python-eda-step-by-step) "
   ]
  },
  {
   "cell_type": "markdown",
   "metadata": {},
   "source": [
    "**Зачем это?**\n",
    "- Понимание, как устроены данные\n",
    "- Проверка фичей на адекватность\n",
    "- _Генерация новых фич_ - наибольший вклад в качество прогноза"
   ]
  },
  {
   "cell_type": "markdown",
   "metadata": {},
   "source": [
    "**3 шага EDA в Data Science**\n",
    "1. Распределение таргета\n",
    "2. Распределение фичей\n",
    "3. Графики влияния фичей на таргет"
   ]
  },
  {
   "cell_type": "markdown",
   "metadata": {},
   "source": [
    "**Подключение библиотек и скриптов**"
   ]
  },
  {
   "cell_type": "code",
   "execution_count": 1,
   "metadata": {},
   "outputs": [],
   "source": [
    "import numpy as np\n",
    "import pandas as pd\n",
    "\n",
    "import matplotlib\n",
    "import matplotlib.image as img\n",
    "import matplotlib.pyplot as plt\n",
    "import seaborn as sns\n",
    "from scipy import stats\n",
    "%matplotlib inline\n",
    "\n",
    "import warnings\n",
    "warnings.filterwarnings('ignore')"
   ]
  },
  {
   "cell_type": "code",
   "execution_count": 2,
   "metadata": {},
   "outputs": [],
   "source": [
    "matplotlib.rcParams.update({'font.size': 14})  # размер шрифта на графиках"
   ]
  },
  {
   "cell_type": "markdown",
   "metadata": {},
   "source": [
    "**Пути к директориям и файлам**"
   ]
  },
  {
   "cell_type": "code",
   "execution_count": 3,
   "metadata": {},
   "outputs": [],
   "source": [
    "DATASET_PATH = 'housing.csv'\n",
    "PREPARED_DATASET_PATH = 'housing_prepared.csv'\n",
    "CALIFORNIA_MAP_PATH = 'California_Map.png'"
   ]
  },
  {
   "cell_type": "markdown",
   "metadata": {},
   "source": [
    "### Загрузка данных<a class='anchor' id='load'>"
   ]
  },
  {
   "cell_type": "markdown",
   "metadata": {},
   "source": [
    "**Описание датасета**\n",
    "\n",
    "Статистические данные о ряде домов в Калифорнии, основанные на переписи 1990 года.\n",
    "\n",
    "* **longitude** - долгота\n",
    "* **latitude** - широта\n",
    "* **housing_median_age** - средний возраст дома\n",
    "* **total_rooms** - общее количество комнат\n",
    "* **total_bedrooms** - общее количество спален\n",
    "* **population** - количество проживающих\n",
    "* **households** - домохозяйства\n",
    "* **ocean_proximity** - близость океана\n",
    "* **median_income** - средний доход\n",
    "* **median_house_value** - средняя стоимость дома"
   ]
  },
  {
   "cell_type": "code",
   "execution_count": 4,
   "metadata": {},
   "outputs": [
    {
     "data": {
      "text/html": [
       "<div>\n",
       "<style scoped>\n",
       "    .dataframe tbody tr th:only-of-type {\n",
       "        vertical-align: middle;\n",
       "    }\n",
       "\n",
       "    .dataframe tbody tr th {\n",
       "        vertical-align: top;\n",
       "    }\n",
       "\n",
       "    .dataframe thead th {\n",
       "        text-align: right;\n",
       "    }\n",
       "</style>\n",
       "<table border=\"1\" class=\"dataframe\">\n",
       "  <thead>\n",
       "    <tr style=\"text-align: right;\">\n",
       "      <th></th>\n",
       "      <th>longitude</th>\n",
       "      <th>latitude</th>\n",
       "      <th>housing_median_age</th>\n",
       "      <th>total_rooms</th>\n",
       "      <th>total_bedrooms</th>\n",
       "      <th>population</th>\n",
       "      <th>households</th>\n",
       "      <th>median_income</th>\n",
       "      <th>median_house_value</th>\n",
       "      <th>ocean_proximity</th>\n",
       "      <th>bedroom_share</th>\n",
       "      <th>population_per_room</th>\n",
       "      <th>&lt;1H OCEAN</th>\n",
       "      <th>INLAND</th>\n",
       "      <th>ISLAND</th>\n",
       "      <th>NEAR BAY</th>\n",
       "      <th>NEAR OCEAN</th>\n",
       "      <th>median_rooms</th>\n",
       "    </tr>\n",
       "  </thead>\n",
       "  <tbody>\n",
       "    <tr>\n",
       "      <th>0</th>\n",
       "      <td>-122.23</td>\n",
       "      <td>37.88</td>\n",
       "      <td>41.0</td>\n",
       "      <td>880.0</td>\n",
       "      <td>129.0</td>\n",
       "      <td>322.0</td>\n",
       "      <td>126.0</td>\n",
       "      <td>8.3252</td>\n",
       "      <td>452600.0</td>\n",
       "      <td>NEAR BAY</td>\n",
       "      <td>14.659091</td>\n",
       "      <td>0.365909</td>\n",
       "      <td>0</td>\n",
       "      <td>0</td>\n",
       "      <td>0</td>\n",
       "      <td>1</td>\n",
       "      <td>0</td>\n",
       "      <td>2083.0</td>\n",
       "    </tr>\n",
       "    <tr>\n",
       "      <th>1</th>\n",
       "      <td>-122.22</td>\n",
       "      <td>37.86</td>\n",
       "      <td>21.0</td>\n",
       "      <td>7099.0</td>\n",
       "      <td>1106.0</td>\n",
       "      <td>2401.0</td>\n",
       "      <td>1138.0</td>\n",
       "      <td>8.3014</td>\n",
       "      <td>358500.0</td>\n",
       "      <td>NEAR BAY</td>\n",
       "      <td>15.579659</td>\n",
       "      <td>0.338217</td>\n",
       "      <td>0</td>\n",
       "      <td>0</td>\n",
       "      <td>0</td>\n",
       "      <td>1</td>\n",
       "      <td>0</td>\n",
       "      <td>2083.0</td>\n",
       "    </tr>\n",
       "    <tr>\n",
       "      <th>2</th>\n",
       "      <td>-122.24</td>\n",
       "      <td>37.85</td>\n",
       "      <td>52.0</td>\n",
       "      <td>1467.0</td>\n",
       "      <td>190.0</td>\n",
       "      <td>496.0</td>\n",
       "      <td>177.0</td>\n",
       "      <td>7.2574</td>\n",
       "      <td>352100.0</td>\n",
       "      <td>NEAR BAY</td>\n",
       "      <td>12.951602</td>\n",
       "      <td>0.338105</td>\n",
       "      <td>0</td>\n",
       "      <td>0</td>\n",
       "      <td>0</td>\n",
       "      <td>1</td>\n",
       "      <td>0</td>\n",
       "      <td>2083.0</td>\n",
       "    </tr>\n",
       "    <tr>\n",
       "      <th>3</th>\n",
       "      <td>-122.25</td>\n",
       "      <td>37.85</td>\n",
       "      <td>52.0</td>\n",
       "      <td>1274.0</td>\n",
       "      <td>235.0</td>\n",
       "      <td>558.0</td>\n",
       "      <td>219.0</td>\n",
       "      <td>5.6431</td>\n",
       "      <td>341300.0</td>\n",
       "      <td>NEAR BAY</td>\n",
       "      <td>18.445840</td>\n",
       "      <td>0.437991</td>\n",
       "      <td>0</td>\n",
       "      <td>0</td>\n",
       "      <td>0</td>\n",
       "      <td>1</td>\n",
       "      <td>0</td>\n",
       "      <td>2083.0</td>\n",
       "    </tr>\n",
       "    <tr>\n",
       "      <th>4</th>\n",
       "      <td>-122.25</td>\n",
       "      <td>37.85</td>\n",
       "      <td>52.0</td>\n",
       "      <td>1627.0</td>\n",
       "      <td>280.0</td>\n",
       "      <td>565.0</td>\n",
       "      <td>259.0</td>\n",
       "      <td>3.8462</td>\n",
       "      <td>342200.0</td>\n",
       "      <td>NEAR BAY</td>\n",
       "      <td>17.209588</td>\n",
       "      <td>0.347265</td>\n",
       "      <td>0</td>\n",
       "      <td>0</td>\n",
       "      <td>0</td>\n",
       "      <td>1</td>\n",
       "      <td>0</td>\n",
       "      <td>2083.0</td>\n",
       "    </tr>\n",
       "  </tbody>\n",
       "</table>\n",
       "</div>"
      ],
      "text/plain": [
       "   longitude  latitude  housing_median_age  total_rooms  total_bedrooms  \\\n",
       "0    -122.23     37.88                41.0        880.0           129.0   \n",
       "1    -122.22     37.86                21.0       7099.0          1106.0   \n",
       "2    -122.24     37.85                52.0       1467.0           190.0   \n",
       "3    -122.25     37.85                52.0       1274.0           235.0   \n",
       "4    -122.25     37.85                52.0       1627.0           280.0   \n",
       "\n",
       "   population  households  median_income  median_house_value ocean_proximity  \\\n",
       "0       322.0       126.0         8.3252            452600.0        NEAR BAY   \n",
       "1      2401.0      1138.0         8.3014            358500.0        NEAR BAY   \n",
       "2       496.0       177.0         7.2574            352100.0        NEAR BAY   \n",
       "3       558.0       219.0         5.6431            341300.0        NEAR BAY   \n",
       "4       565.0       259.0         3.8462            342200.0        NEAR BAY   \n",
       "\n",
       "   bedroom_share  population_per_room  <1H OCEAN  INLAND  ISLAND  NEAR BAY  \\\n",
       "0      14.659091             0.365909          0       0       0         1   \n",
       "1      15.579659             0.338217          0       0       0         1   \n",
       "2      12.951602             0.338105          0       0       0         1   \n",
       "3      18.445840             0.437991          0       0       0         1   \n",
       "4      17.209588             0.347265          0       0       0         1   \n",
       "\n",
       "   NEAR OCEAN  median_rooms  \n",
       "0           0        2083.0  \n",
       "1           0        2083.0  \n",
       "2           0        2083.0  \n",
       "3           0        2083.0  \n",
       "4           0        2083.0  "
      ]
     },
     "execution_count": 4,
     "metadata": {},
     "output_type": "execute_result"
    }
   ],
   "source": [
    "df = pd.read_csv(DATASET_PATH, sep=';')\n",
    "df.head()"
   ]
  },
  {
   "cell_type": "code",
   "execution_count": 5,
   "metadata": {},
   "outputs": [
    {
     "data": {
      "text/plain": [
       "longitude              float64\n",
       "latitude               float64\n",
       "housing_median_age     float64\n",
       "total_rooms            float64\n",
       "total_bedrooms         float64\n",
       "population             float64\n",
       "households             float64\n",
       "median_income          float64\n",
       "median_house_value     float64\n",
       "ocean_proximity         object\n",
       "bedroom_share          float64\n",
       "population_per_room    float64\n",
       "<1H OCEAN                int64\n",
       "INLAND                   int64\n",
       "ISLAND                   int64\n",
       "NEAR BAY                 int64\n",
       "NEAR OCEAN               int64\n",
       "median_rooms           float64\n",
       "dtype: object"
      ]
     },
     "execution_count": 5,
     "metadata": {},
     "output_type": "execute_result"
    }
   ],
   "source": [
    "df.dtypes"
   ]
  },
  {
   "cell_type": "markdown",
   "metadata": {},
   "source": [
    "### Уменьшение объема памяти, который занимает датасет**<a class='anchor' id='reduce'>"
   ]
  },
  {
   "cell_type": "markdown",
   "metadata": {},
   "source": [
    "https://www.kaggle.com/gemartin/load-data-reduce-memory-usage"
   ]
  },
  {
   "attachments": {
    "image.png": {
     "image/png": "[encoded data removed]"
    }
   },
   "cell_type": "markdown",
   "metadata": {},
   "source": [
    "![image.png](attachment:image.png)"
   ]
  },
  {
   "cell_type": "code",
   "execution_count": 6,
   "metadata": {},
   "outputs": [],
   "source": [
    "def reduce_mem_usage(df):\n",
    "    \"\"\" iterate through all the columns of a dataframe and modify the data type\n",
    "        to reduce memory usage.        \n",
    "    \"\"\"\n",
    "    start_mem = df.memory_usage().sum() / 1024**2\n",
    "    print('Memory usage of dataframe is {:.2f} MB'.format(start_mem))\n",
    "    \n",
    "    for col in df.columns:\n",
    "        col_type = df[col].dtype\n",
    "        \n",
    "        if col_type != object:\n",
    "            c_min = df[col].min()\n",
    "            c_max = df[col].max()\n",
    "            if str(col_type)[:3] == 'int':\n",
    "                if c_min > np.iinfo(np.int8).min and c_max < np.iinfo(np.int8).max:\n",
    "                    df[col] = df[col].astype(np.int8)\n",
    "                elif c_min > np.iinfo(np.int16).min and c_max < np.iinfo(np.int16).max:\n",
    "                    df[col] = df[col].astype(np.int16)\n",
    "                elif c_min > np.iinfo(np.int32).min and c_max < np.iinfo(np.int32).max:\n",
    "                    df[col] = df[col].astype(np.int32)\n",
    "                elif c_min > np.iinfo(np.int64).min and c_max < np.iinfo(np.int64).max:\n",
    "                    df[col] = df[col].astype(np.int64)  \n",
    "            else:\n",
    "                if c_min > np.finfo(np.float32).min and c_max < np.finfo(np.float32).max:\n",
    "                    df[col] = df[col].astype(np.float32)\n",
    "                else:\n",
    "                    df[col] = df[col].astype(np.float64)\n",
    "        else:\n",
    "            df[col] = df[col].astype('category')\n",
    "\n",
    "    end_mem = df.memory_usage().sum() / 1024**2\n",
    "    print('Memory usage after optimization is: {:.2f} MB'.format(end_mem))\n",
    "    print('Decreased by {:.1f}%'.format(100 * (start_mem - end_mem) / start_mem))\n",
    "    \n",
    "    return df"
   ]
  },
  {
   "cell_type": "code",
   "execution_count": 7,
   "metadata": {},
   "outputs": [
    {
     "name": "stdout",
     "output_type": "stream",
     "text": [
      "Memory usage of dataframe is 2.83 MB\n",
      "Memory usage after optimization is: 1.06 MB\n",
      "Decreased by 62.5%\n"
     ]
    }
   ],
   "source": [
    "df = reduce_mem_usage(df)"
   ]
  },
  {
   "cell_type": "code",
   "execution_count": 8,
   "metadata": {},
   "outputs": [
    {
     "data": {
      "text/plain": [
       "longitude               float32\n",
       "latitude                float32\n",
       "housing_median_age      float32\n",
       "total_rooms             float32\n",
       "total_bedrooms          float32\n",
       "population              float32\n",
       "households              float32\n",
       "median_income           float32\n",
       "median_house_value      float32\n",
       "ocean_proximity        category\n",
       "bedroom_share           float32\n",
       "population_per_room     float32\n",
       "<1H OCEAN                  int8\n",
       "INLAND                     int8\n",
       "ISLAND                     int8\n",
       "NEAR BAY                   int8\n",
       "NEAR OCEAN                 int8\n",
       "median_rooms            float32\n",
       "dtype: object"
      ]
     },
     "execution_count": 8,
     "metadata": {},
     "output_type": "execute_result"
    }
   ],
   "source": [
    "df.dtypes"
   ]
  },
  {
   "cell_type": "markdown",
   "metadata": {},
   "source": [
    "---"
   ]
  },
  {
   "cell_type": "markdown",
   "metadata": {},
   "source": [
    "# 1. Распределение целевой переменной<a class='anchor' id='target'>"
   ]
  },
  {
   "cell_type": "markdown",
   "metadata": {},
   "source": [
    "- Помните про различие среднего арифметическое, медианы, моды\n",
    "- Среднее арифметическое (мат ожидание) подходят для нормальных распределений = SUM / N\n",
    "- Медиана (quantile 50%) - практически для любых распределений = Середина отранжированного ряда\n",
    "- Мода - для категориальных переменных = наиболее часто встречающееся значение в выборке"
   ]
  },
  {
   "cell_type": "code",
   "execution_count": 9,
   "metadata": {},
   "outputs": [
    {
     "ename": "SyntaxError",
     "evalue": "invalid syntax (Temp/ipykernel_11996/71467631.py, line 1)",
     "output_type": "error",
     "traceback": [
      "\u001b[1;36m  File \u001b[1;32m\"C:\\Users\\ASUS\\AppData\\Local\\Temp/ipykernel_11996/71467631.py\"\u001b[1;36m, line \u001b[1;32m1\u001b[0m\n\u001b[1;33m    {'red', 'green', 'blue'} - дискретный признак ('red', 'green', 'blue', 'red', 'green', 'red')\u001b[0m\n\u001b[1;37m                                          ^\u001b[0m\n\u001b[1;31mSyntaxError\u001b[0m\u001b[1;31m:\u001b[0m invalid syntax\n"
     ]
    }
   ],
   "source": [
    "{'red', 'green', 'blue'} - дискретный признак ('red', 'green', 'blue', 'red', 'green', 'red')\n",
    "[0, 100] - вещественный признак (0, 5, 5.6, 10.5, 10.5)"
   ]
  },
  {
   "cell_type": "code",
   "execution_count": null,
   "metadata": {},
   "outputs": [],
   "source": [
    "x = np.random.randint(0, 10, 10)\n",
    "print(sorted(x))\n",
    "print(f'median - {np.quantile(x, q=0.5)}\\nmean - {np.mean(x)}\\nmode - {stats.mode(x)[0][0]}')\n",
    "sns.distplot(x, bins=10);"
   ]
  },
  {
   "cell_type": "code",
   "execution_count": null,
   "metadata": {},
   "outputs": [],
   "source": [
    "plt.figure(figsize = (16, 8))\n",
    "\n",
    "plt.subplot(121)\n",
    "df['median_house_value'].hist(density=False, bins=20)\n",
    "plt.ylabel('count')\n",
    "plt.xlabel('median_house_value')\n",
    "\n",
    "plt.subplot(122)\n",
    "sns.kdeplot(df['median_house_value'], shade=True, legend=False)\n",
    "plt.xlabel('median_house_value')\n",
    "\n",
    "plt.suptitle('Distribution of median_house_value')\n",
    "plt.show()"
   ]
  },
  {
   "cell_type": "code",
   "execution_count": null,
   "metadata": {},
   "outputs": [],
   "source": [
    "target_mean = round(df['median_house_value'].mean(), 2)\n",
    "target_median = df['median_house_value'].median()\n",
    "target_mode = df['median_house_value'].mode()[0]"
   ]
  },
  {
   "cell_type": "code",
   "execution_count": null,
   "metadata": {},
   "outputs": [],
   "source": [
    "plt.figure(figsize = (16, 8))\n",
    "\n",
    "sns.distplot(df['median_house_value'], bins=50)\n",
    "\n",
    "y = np.linspace(0, 0.000005, 10)\n",
    "plt.plot([target_mean] * 10, y, label='?',  linewidth=4)\n",
    "plt.plot([target_median] * 10, y, label='?',  linewidth=4)\n",
    "plt.plot([target_mode] * 10, y, label='?', linewidth=4)\n",
    "\n",
    "plt.title('Distribution of median_house_value')\n",
    "plt.legend()\n",
    "plt.show()"
   ]
  },
  {
   "cell_type": "code",
   "execution_count": null,
   "metadata": {},
   "outputs": [],
   "source": [
    "plt.figure(figsize = (16, 8))\n",
    "\n",
    "sns.distplot(df['median_house_value'], bins=50)\n",
    "\n",
    "y = np.linspace(0, 0.000005, 10)\n",
    "plt.plot([target_mean] * 10, y, label='mean', linestyle=':', linewidth=4)\n",
    "plt.plot([target_median] * 10, y, label='median', linestyle='--', linewidth=4)\n",
    "plt.plot([target_mode] * 10, y, label='mode', linestyle='-.', linewidth=4)\n",
    "\n",
    "plt.title('Distribution of median_house_value')\n",
    "plt.legend()\n",
    "plt.show()"
   ]
  },
  {
   "cell_type": "code",
   "execution_count": null,
   "metadata": {},
   "outputs": [],
   "source": [
    "target_bins = df['median_house_value'] // 10000 * 10000\n",
    "# 0 - 10000 --> 0\n",
    "# 10001 - 20000 --> 1\n",
    "# ...\n",
    "\n",
    "target_adjusted_mode = target_bins.mode()[0]\n",
    "\n",
    "target_adjusted_mode"
   ]
  },
  {
   "cell_type": "code",
   "execution_count": null,
   "metadata": {},
   "outputs": [],
   "source": [
    "df['median_house_value'].value_counts()"
   ]
  },
  {
   "cell_type": "code",
   "execution_count": null,
   "metadata": {},
   "outputs": [],
   "source": [
    "target_bins"
   ]
  },
  {
   "cell_type": "code",
   "execution_count": null,
   "metadata": {},
   "outputs": [],
   "source": [
    "target_bins.value_counts().iloc[:10]"
   ]
  },
  {
   "cell_type": "code",
   "execution_count": null,
   "metadata": {},
   "outputs": [],
   "source": [
    "len(np.unique(target_bins))"
   ]
  },
  {
   "cell_type": "code",
   "execution_count": null,
   "metadata": {},
   "outputs": [],
   "source": [
    "np.unique(target_bins)"
   ]
  },
  {
   "cell_type": "code",
   "execution_count": null,
   "metadata": {},
   "outputs": [],
   "source": [
    "plt.figure(figsize = (16, 8))\n",
    "\n",
    "sns.distplot(df['median_house_value'], bins=50) \n",
    "\n",
    "y = np.linspace(0, 0.000005, 10)\n",
    "plt.plot([target_mean] * 10, y, label='mean', linestyle=':', linewidth=4)\n",
    "plt.plot([target_median] * 10, y, label='median', linestyle='--', linewidth=4)\n",
    "plt.plot([target_adjusted_mode] * 10, y, label='adjusted mode', linestyle='-.', linewidth=4)\n",
    "\n",
    "plt.title('Distribution of median_house_value')\n",
    "plt.legend()\n",
    "plt.show()"
   ]
  },
  {
   "cell_type": "markdown",
   "metadata": {},
   "source": [
    "Либо можем сразу выкинуть эти странные значения из выборки"
   ]
  },
  {
   "cell_type": "code",
   "execution_count": null,
   "metadata": {},
   "outputs": [],
   "source": [
    "df['median_house_value'].value_counts()"
   ]
  },
  {
   "cell_type": "code",
   "execution_count": null,
   "metadata": {},
   "outputs": [],
   "source": [
    "df = df[df['median_house_value'] < 500000]\n",
    "\n",
    "target_mean = round(df['median_house_value'].mean(), 2)\n",
    "target_median = df['median_house_value'].median()\n",
    "target_mode = df['median_house_value'].mode()[0]\n",
    "\n",
    "plt.figure(figsize = (16, 8))\n",
    "plt.hist(df['median_house_value'], density=True, bins=50, alpha=0.5)\n",
    "\n",
    "y = np.linspace(0, 0.000005, 10)\n",
    "plt.plot([target_mean] * 10, y, label='mean',  linewidth=4)\n",
    "plt.plot([target_median] * 10, y, label='median', linewidth=4)\n",
    "plt.plot([target_mode] * 10, y, label='mode', linewidth=4)\n",
    "\n",
    "plt.title('Distribution of median_house_value')\n",
    "plt.legend()\n",
    "plt.show()"
   ]
  },
  {
   "cell_type": "markdown",
   "metadata": {},
   "source": [
    "# 2. Анализ признаков<a class='anchor' id='features'>"
   ]
  },
  {
   "cell_type": "markdown",
   "metadata": {},
   "source": [
    "### 2.1 Количественные признаки<a class='anchor' id='num_features'>"
   ]
  },
  {
   "cell_type": "code",
   "execution_count": null,
   "metadata": {},
   "outputs": [],
   "source": [
    "df_num_features = df.select_dtypes(include=['float64', 'float32', 'float16'])\n",
    "df_num_features.drop('median_house_value', axis=1, inplace=True)"
   ]
  },
  {
   "cell_type": "code",
   "execution_count": null,
   "metadata": {},
   "outputs": [],
   "source": [
    "df_num_features.head()"
   ]
  },
  {
   "cell_type": "code",
   "execution_count": null,
   "metadata": {},
   "outputs": [],
   "source": [
    "df_num_features.hist(figsize=(16, 16), bins=20, grid=False);"
   ]
  },
  {
   "cell_type": "code",
   "execution_count": null,
   "metadata": {},
   "outputs": [],
   "source": [
    "df[df['population_per_room'] < 10]['population_per_room'].hist(figsize=(4, 4), bins=20, grid=False);\n",
    "# plt.yscale('log')"
   ]
  },
  {
   "cell_type": "code",
   "execution_count": null,
   "metadata": {},
   "outputs": [],
   "source": [
    "df.loc[df['population_per_room'] > 2.5, 'population_per_room'] = df['population_per_room'].median()"
   ]
  },
  {
   "cell_type": "code",
   "execution_count": null,
   "metadata": {},
   "outputs": [],
   "source": [
    "grid = sns.jointplot(df['median_income'], df['total_bedrooms'], kind='reg')\n",
    "grid.fig.set_figwidth(8)\n",
    "grid.fig.set_figheight(8)\n",
    "\n",
    "plt.show()"
   ]
  },
  {
   "cell_type": "code",
   "execution_count": null,
   "metadata": {},
   "outputs": [],
   "source": [
    "grid = sns.jointplot(df['total_rooms'], df['total_bedrooms'], kind='reg')\n",
    "grid.fig.set_figwidth(8)\n",
    "grid.fig.set_figheight(8)\n",
    "\n",
    "plt.show()"
   ]
  },
  {
   "cell_type": "code",
   "execution_count": null,
   "metadata": {},
   "outputs": [],
   "source": [
    "df['total_bedrooms'].median()"
   ]
  },
  {
   "cell_type": "code",
   "execution_count": null,
   "metadata": {},
   "outputs": [],
   "source": [
    "df[df['total_bedrooms'] == 435].shape[0] * 100 / df.shape[0]"
   ]
  },
  {
   "cell_type": "code",
   "execution_count": null,
   "metadata": {},
   "outputs": [],
   "source": [
    "df[df['total_bedrooms'] == df['total_bedrooms'].median()].shape[0]"
   ]
  },
  {
   "cell_type": "code",
   "execution_count": null,
   "metadata": {},
   "outputs": [],
   "source": [
    "grid = sns.jointplot(df['latitude'], df['longitude'], kind='kde')\n",
    "grid.fig.set_figwidth(8)\n",
    "grid.fig.set_figheight(8)\n",
    "\n",
    "plt.show()"
   ]
  },
  {
   "cell_type": "code",
   "execution_count": null,
   "metadata": {},
   "outputs": [],
   "source": [
    "df['city'] = (df['longitude'] > -120) * 1"
   ]
  },
  {
   "cell_type": "code",
   "execution_count": null,
   "metadata": {},
   "outputs": [],
   "source": [
    "df.head()"
   ]
  },
  {
   "cell_type": "markdown",
   "metadata": {},
   "source": [
    "**Поиск выбросов с помощью box plot**"
   ]
  },
  {
   "cell_type": "markdown",
   "metadata": {},
   "source": [
    "**Как строится box plot**  \n",
    "\n",
    "[Подробное объяснение](https://towardsdatascience.com/understanding-boxplots-5e2df7bcbd51)\n",
    "\n",
    "- box - от 25% до 75% квантиля\n",
    "- линия в середине box - медиана\n",
    "- \"усы\""
   ]
  },
  {
   "cell_type": "markdown",
   "metadata": {},
   "source": [
    "**Как строятся \"усы\"** - вариантов масса\n",
    "- среднее  +/-  3 сигма (стандартное отклонение)\n",
    "- min / max\n",
    "- median  +/-  1.5*(q75 - q25), \n",
    "- ...\n",
    "\n",
    "*Интерквартильный размах = q75 - q25"
   ]
  },
  {
   "cell_type": "code",
   "execution_count": null,
   "metadata": {},
   "outputs": [],
   "source": [
    "plt.figure(figsize=(6, 3))\n",
    "\n",
    "sns.boxplot(df['households'], whis=1.5)\n",
    "\n",
    "plt.xlabel('households')\n",
    "plt.show()"
   ]
  },
  {
   "cell_type": "code",
   "execution_count": null,
   "metadata": {},
   "outputs": [],
   "source": [
    "df.loc[df['households'] > 1000, 'households'] = df['households'].median()"
   ]
  },
  {
   "cell_type": "code",
   "execution_count": null,
   "metadata": {},
   "outputs": [],
   "source": [
    "df['households'].hist();"
   ]
  },
  {
   "cell_type": "markdown",
   "metadata": {},
   "source": [
    "### 2.2 Категориальные признаки<a class='anchor' id='cat_features'>"
   ]
  },
  {
   "cell_type": "code",
   "execution_count": null,
   "metadata": {},
   "outputs": [],
   "source": [
    "counts = df['ocean_proximity'].value_counts()\n",
    "    \n",
    "plt.figure(figsize=(12, 8))    \n",
    "plt.title('ocean_proximity')\n",
    "sns.barplot(counts.index, counts.values)\n",
    "    \n",
    "plt.show()"
   ]
  },
  {
   "cell_type": "markdown",
   "metadata": {},
   "source": [
    "### 2.3 Бинарные признаки<a class='anchor' id='binary_features'>"
   ]
  },
  {
   "cell_type": "code",
   "execution_count": null,
   "metadata": {},
   "outputs": [],
   "source": [
    "df_bin_features = df.select_dtypes(include='int64')"
   ]
  },
  {
   "cell_type": "code",
   "execution_count": null,
   "metadata": {},
   "outputs": [],
   "source": [
    "counts = df['NEAR BAY'].value_counts()\n",
    "    \n",
    "plt.figure(figsize=(12, 8))    \n",
    "plt.title('NEAR BAY')\n",
    "sns.barplot(counts.index, counts.values)\n",
    "    \n",
    "plt.show()"
   ]
  },
  {
   "cell_type": "markdown",
   "metadata": {},
   "source": [
    "### 2.4 Матрица корреляций<a class='anchor' id='corr'>"
   ]
  },
  {
   "cell_type": "markdown",
   "metadata": {},
   "source": [
    "- Показывает линейную связь между переменными\n",
    "- Изменяется от -1 до 1\n",
    "- Корреляция - мера только __линейной__ связи"
   ]
  },
  {
   "cell_type": "code",
   "execution_count": null,
   "metadata": {},
   "outputs": [],
   "source": [
    "grid = sns.jointplot(df['total_rooms'], -df['total_bedrooms'], kind='reg')\n",
    "plt.show()"
   ]
  },
  {
   "cell_type": "code",
   "execution_count": null,
   "metadata": {},
   "outputs": [],
   "source": [
    "plt.figure(figsize=(15, 10))\n",
    "\n",
    "sns.set(font_scale=1.4)\n",
    "\n",
    "corr_matrix = df.corr()\n",
    "corr_matrix = np.round(corr_matrix, 2)\n",
    "corr_matrix[np.abs(corr_matrix) < 0.3] = 0\n",
    "\n",
    "sns.heatmap(corr_matrix, annot=True, linewidths=.5, cmap='coolwarm')\n",
    "\n",
    "plt.title('Correlation matrix')\n",
    "plt.show()"
   ]
  },
  {
   "cell_type": "markdown",
   "metadata": {},
   "source": [
    "# 3. Анализ зависимости таргета от фичей<a class='anchor' id='target_features'>"
   ]
  },
  {
   "cell_type": "markdown",
   "metadata": {},
   "source": [
    "## 3.1 Количественные признаки<a class='anchor' id='num_features_target'>"
   ]
  },
  {
   "cell_type": "code",
   "execution_count": null,
   "metadata": {},
   "outputs": [],
   "source": [
    "grid = sns.jointplot(df['total_bedrooms'], df['median_house_value'], kind='reg')\n",
    "grid.fig.set_figwidth(8)\n",
    "grid.fig.set_figheight(8)\n",
    "\n",
    "plt.show()"
   ]
  },
  {
   "cell_type": "code",
   "execution_count": null,
   "metadata": {},
   "outputs": [],
   "source": [
    "df['many_bedrooms'] = (df['total_bedrooms'] > 3000) * 1"
   ]
  },
  {
   "cell_type": "markdown",
   "metadata": {},
   "source": [
    "**latitude**"
   ]
  },
  {
   "cell_type": "code",
   "execution_count": null,
   "metadata": {},
   "outputs": [],
   "source": [
    "grid = sns.jointplot(df['latitude'], df['median_house_value'], kind='reg')\n",
    "grid.fig.set_figwidth(8)\n",
    "grid.fig.set_figheight(8)\n",
    "\n",
    "plt.show()"
   ]
  },
  {
   "cell_type": "markdown",
   "metadata": {},
   "source": [
    "Видно два города, имеет смысл посмотреть на зависимость по отдельности"
   ]
  },
  {
   "cell_type": "code",
   "execution_count": null,
   "metadata": {},
   "outputs": [],
   "source": [
    "df_cut = df[df['latitude'] < 36]\n",
    "grid = sns.jointplot(df_cut['latitude'], df_cut['median_house_value'], kind='reg')\n",
    "grid.fig.set_figwidth(8)\n",
    "grid.fig.set_figheight(8)\n",
    "\n",
    "plt.show()"
   ]
  },
  {
   "cell_type": "code",
   "execution_count": null,
   "metadata": {},
   "outputs": [],
   "source": [
    "df_cut = df[df['latitude'] >= 36]\n",
    "grid = sns.jointplot(df_cut['latitude'], df_cut['median_house_value'], kind='reg')\n",
    "grid.fig.set_figwidth(8)\n",
    "grid.fig.set_figheight(8)\n",
    "\n",
    "plt.show()"
   ]
  },
  {
   "cell_type": "markdown",
   "metadata": {},
   "source": [
    "**longitude**"
   ]
  },
  {
   "cell_type": "code",
   "execution_count": null,
   "metadata": {},
   "outputs": [],
   "source": [
    "grid = sns.jointplot(df['longitude'], df['median_house_value'], kind='reg')\n",
    "grid.fig.set_figwidth(8)\n",
    "grid.fig.set_figheight(8)\n",
    "\n",
    "plt.show()"
   ]
  },
  {
   "cell_type": "code",
   "execution_count": null,
   "metadata": {},
   "outputs": [],
   "source": [
    "df_cut = df[df['longitude'] < -120]\n",
    "grid = sns.jointplot(df_cut['longitude'], df_cut['median_house_value'], kind='reg')\n",
    "grid.fig.set_figwidth(8)\n",
    "grid.fig.set_figheight(8)\n",
    "\n",
    "plt.show()"
   ]
  },
  {
   "cell_type": "code",
   "execution_count": null,
   "metadata": {},
   "outputs": [],
   "source": [
    "df_cut = df[df['longitude'] >= -120]\n",
    "grid = sns.jointplot(df_cut['longitude'], df_cut['median_house_value'], kind='reg')\n",
    "grid.fig.set_figwidth(8)\n",
    "grid.fig.set_figheight(8)\n",
    "\n",
    "plt.show()"
   ]
  },
  {
   "cell_type": "markdown",
   "metadata": {},
   "source": [
    "## 3.2 Категориальные / бинарные признаки<a class='anchor' id='cat_bin_features'>"
   ]
  },
  {
   "cell_type": "code",
   "execution_count": null,
   "metadata": {},
   "outputs": [],
   "source": [
    "plt.figure(figsize=(16, 8))\n",
    "\n",
    "plt.scatter(df['median_house_value'], df['ocean_proximity'])\n",
    "\n",
    "plt.xlabel('median_house_value')\n",
    "plt.ylabel('ocean_proximity')\n",
    "plt.title('Distribution of median_house_value by ocean_proximity')\n",
    "plt.show()"
   ]
  },
  {
   "cell_type": "markdown",
   "metadata": {},
   "source": [
    "### box plot"
   ]
  },
  {
   "cell_type": "code",
   "execution_count": null,
   "metadata": {},
   "outputs": [],
   "source": [
    "plt.figure(figsize=(16, 8))\n",
    "\n",
    "sns.boxplot(df['median_house_value'], df['ocean_proximity'], whis=1.5)\n",
    "\n",
    "plt.xlabel('median_house_value')\n",
    "plt.ylabel('ocean_proximity')\n",
    "plt.title('Distribution of median_house_value by ocean_proximity')\n",
    "plt.show()"
   ]
  },
  {
   "cell_type": "markdown",
   "metadata": {},
   "source": [
    "**Как строится box plot**  \n",
    "\n",
    "[Подробное объяснение](https://towardsdatascience.com/understanding-boxplots-5e2df7bcbd51)\n",
    "\n",
    "- box - от 25% до 75% квантиля\n",
    "- линия в середине box - медиана\n",
    "- \"усы\""
   ]
  },
  {
   "cell_type": "markdown",
   "metadata": {},
   "source": [
    "**Как строятся \"усы\"** - вариантов масса\n",
    "- среднее  +/-  3 сигма (стандартное отклонение)\n",
    "- min / max\n",
    "- median  +/-  1.5*(q75 - q25), \n",
    "- ...\n",
    "\n",
    "*Интерквартильный размах = q75 - q25"
   ]
  },
  {
   "cell_type": "markdown",
   "metadata": {},
   "source": [
    "### Violin plot"
   ]
  },
  {
   "cell_type": "code",
   "execution_count": null,
   "metadata": {},
   "outputs": [],
   "source": [
    "plt.figure(figsize=(16, 8))\n",
    "\n",
    "sns.violinplot(df['median_house_value'], df['ocean_proximity'])\n",
    "\n",
    "plt.xlabel('median_house_value')\n",
    "plt.ylabel('ocean_proximity')\n",
    "plt.title('Distribution of median_house_value by ocean_proximity')\n",
    "plt.show()"
   ]
  },
  {
   "cell_type": "markdown",
   "metadata": {},
   "source": [
    "## 3.3 Гео данные*<a class='anchor' id='geo'>"
   ]
  },
  {
   "cell_type": "code",
   "execution_count": null,
   "metadata": {},
   "outputs": [],
   "source": [
    "california_map = img.imread(CALIFORNIA_MAP_PATH)\n",
    "\n",
    "plt.figure(figsize=(20, 13))\n",
    "plt.imshow(california_map, extent=[-124.55, -113.80, 32.45, 42.05], alpha=0.5)\n",
    "plt.show()"
   ]
  },
  {
   "cell_type": "code",
   "execution_count": null,
   "metadata": {},
   "outputs": [],
   "source": [
    "plt.figure(figsize=(20, 13))\n",
    "\n",
    "sc = plt.scatter(df['longitude'], df['latitude'], cmap=plt.get_cmap('jet'), alpha=0.5,\n",
    "            s=df['population'] / 50, label='population', c=df['median_house_value'])\n",
    "\n",
    "plt.imshow(california_map, extent=[-124.55, -113.80, 32.45, 42.05], alpha=0.5)\n",
    "\n",
    "plt.colorbar(sc)\n",
    "plt.xlabel(\"Longitude\")\n",
    "plt.ylabel(\"Latitude\")\n",
    "plt.title(\"Homes geography\")\n",
    "plt.legend() \n",
    "plt.show()"
   ]
  },
  {
   "cell_type": "markdown",
   "metadata": {},
   "source": [
    "## Folium"
   ]
  },
  {
   "cell_type": "code",
   "execution_count": null,
   "metadata": {},
   "outputs": [],
   "source": [
    "# !pip install folium==0.12.1"
   ]
  },
  {
   "cell_type": "code",
   "execution_count": null,
   "metadata": {},
   "outputs": [],
   "source": [
    "import folium\n",
    "this_map = folium.Map(prefer_canvas=True)\n",
    "\n",
    "def plotDot(point, color):\n",
    "    \n",
    "    folium.CircleMarker(\n",
    "        location=[point.latitude, point.longitude],\n",
    "        radius=2,\n",
    "        weight=5,\n",
    "        color=color,\n",
    "        popup=point.median_house_value\n",
    "    ).add_to(this_map)\n",
    "    \n",
    "df.iloc[:2000].apply(plotDot, axis=1, color='#3388FF')\n",
    "\n",
    "this_map.fit_bounds(this_map.get_bounds())\n",
    "\n",
    "this_map"
   ]
  },
  {
   "cell_type": "markdown",
   "metadata": {},
   "source": [
    "## Kepler**"
   ]
  },
  {
   "cell_type": "code",
   "execution_count": null,
   "metadata": {},
   "outputs": [],
   "source": [
    "# !conda install -c conda-forge keplergl"
   ]
  },
  {
   "cell_type": "code",
   "execution_count": null,
   "metadata": {},
   "outputs": [],
   "source": [
    "# !pip install keplergl==0.1.1\n",
    "from keplergl import KeplerGl \n",
    "\n",
    "map_ = KeplerGl(height=700)\n",
    "map_.add_data(df, 'Data')\n",
    "map_.save_to_html(file_name='./california.html')"
   ]
  },
  {
   "cell_type": "markdown",
   "metadata": {},
   "source": [
    "### Target encoding**"
   ]
  },
  {
   "cell_type": "code",
   "execution_count": null,
   "metadata": {},
   "outputs": [],
   "source": [
    "df[['latitude', 'longitude', 'median_house_value']].head()"
   ]
  },
  {
   "cell_type": "code",
   "execution_count": null,
   "metadata": {},
   "outputs": [],
   "source": [
    "df['latitude'] = np.round(df['latitude'], 0)\n",
    "df['longitude'] = np.round(df['longitude'], 0)\n",
    "df[['latitude', 'longitude', 'median_house_value']].head()"
   ]
  },
  {
   "cell_type": "code",
   "execution_count": null,
   "metadata": {},
   "outputs": [],
   "source": [
    "plt.figure(figsize=(10, 10))\n",
    "plt.scatter(df['latitude'], df['longitude'])\n",
    "plt.show()"
   ]
  },
  {
   "cell_type": "code",
   "execution_count": null,
   "metadata": {},
   "outputs": [],
   "source": [
    "df[['latitude', 'longitude']].drop_duplicates().shape[0]"
   ]
  },
  {
   "cell_type": "code",
   "execution_count": null,
   "metadata": {},
   "outputs": [],
   "source": [
    "df_g = df.groupby(['latitude', 'longitude'])['median_house_value'].mean().reset_index()\n",
    "df_g.head()"
   ]
  },
  {
   "cell_type": "markdown",
   "metadata": {},
   "source": [
    "### Summary\n",
    "1. Матрица корреляции\n",
    "2. Знакомство с признаками\n",
    "    - Плотность распределения (sns.distplot/sns.kdeplot/plt.hist - Узнать распределение признака)\n",
    "    - sns.violinplot - Узнать распределение признака\n",
    "    - Столбчатая диаграмма (sns.barplot/plt.bar - Узнать распределение категориального признака)\n",
    "    - Ящик с усами (sns.boxplot/plt.boxplot - Узнать диапазон значений)\n",
    "    - sns.jointplot - Взаимное изменение признаков\n",
    "    - plt.pie - Изобразить долю объектов от всего кол-ва\n",
    "3. Поиск выбросов\n",
    "    - sns.distplot/sns.kdeplot/plt.hist - Искать хвосты слева и справа\n",
    "    - sns.boxplot - Всё, что выходит за пределы усов - выбросы\n",
    "\n",
    "Seaborn - https://seaborn.pydata.org/examples/index.html<br>\n",
    "Matplotlib - https://matplotlib.org/3.1.0/gallery/index.html"
   ]
  }
 ],
 "metadata": {
  "kernelspec": {
   "display_name": "Python 3 (ipykernel)",
   "language": "python",
   "name": "python3"
  },
  "language_info": {
   "codemirror_mode": {
    "name": "ipython",
    "version": 3
   },
   "file_extension": ".py",
   "mimetype": "text/x-python",
   "name": "python",
   "nbconvert_exporter": "python",
   "pygments_lexer": "ipython3",
   "version": "3.9.7"
  }
 },
 "nbformat": 4,
 "nbformat_minor": 2
}
